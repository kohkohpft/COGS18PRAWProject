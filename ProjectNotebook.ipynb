{
 "cells": [
  {
   "cell_type": "markdown",
   "metadata": {},
   "source": [
    "# Project Description"
   ]
  },
  {
   "cell_type": "markdown",
   "metadata": {},
   "source": [
    "Investing requires a great deal of attention to media and thought about the potential for growth among companies. In the past few years, social media platforms such as reddit, twitter, and even tiktok have become venues for investors from all kinds of backgrounds to discuss companies and share research. Unfortunately, with this rise in social media investing has also come a flood of uninformed, immaterial, and sometimes completely falsified material about investments designed to lure unsuspecting audiences. \n",
    "\n",
    "Reddit has the unique position of being able to provide binary user-feedback on posts through upvotes and downvotes. As such, I chose to make my project using the Python Reddit API (PRAW) to scrape investment-based subreddits to filter posts for certain stock symbols as well as user engagement to streamline the process of searching for informative discussion about companies (NOT an endorsement for investing solely based on social media). \n",
    "\n",
    "Reddit does provide search functions as well as user-feedback filters that allow users to sort by chronology, popularity, and even controversy. However, these filters are often one-dimensional and only allow for users to search for one stock symbol at a time and manually comb through each post to see if there is anything of interest. This project focuses on creating more flexible filters as well as condensing information to make it easier to sort through.\n",
    "\n",
    "# How to begin\n",
    "The default watchlist begins with the following symbols: 'HITI', 'XSPA', 'TNXP', 'TELL', 'CTXR', 'APPL', 'GME', 'AMC', 'BABA', 'ADXS', and 'RIVN'. These can be added or removed using the add_ticker and remove_ticker functions. The kernels below the imports will create interactive menus to change the amount of posts to process and which subreddit to target. There will also be options to manually add or remove stocks from the filter.  "
   ]
  },
  {
   "cell_type": "markdown",
   "metadata": {},
   "source": [
    "## Imports"
   ]
  },
  {
   "cell_type": "code",
   "execution_count": 1,
   "metadata": {},
   "outputs": [],
   "source": [
    "from my_module.Reddit_Scraper import RedditScraper\n",
    "from ipywidgets import interact, interactive, fixed, interact_manual, Layout\n",
    "from my_module.bar_graph import bar_graph\n",
    "import pytest\n",
    "import ipywidgets as widgets\n"
   ]
  },
  {
   "cell_type": "markdown",
   "metadata": {},
   "source": [
    "## Set Values Using Widgets\n",
    "The following cells are to use the functions in the class RedditScraper to find posts relating to stocks on the watchlist. The following slider and dropdown menu cells allow you to manipulate what subreddits and how many posts are shown in the general and filtered dataframes. \n",
    "\n",
    "You will not need to run the widget kernels again or do anything after moving the slider, changing the dropdown options, or typing in the text box. You only need to re-run the cells with RedditScraper functions to update the results."
   ]
  },
  {
   "cell_type": "code",
   "execution_count": 2,
   "metadata": {
    "tags": [
     "hide-input"
    ]
   },
   "outputs": [
    {
     "data": {
      "application/vnd.jupyter.widget-view+json": {
       "model_id": "b3706b2a3cc94b8c91581949e89a5ffa",
       "version_major": 2,
       "version_minor": 0
      },
      "text/plain": [
       "IntSlider(value=5, description='Post Number', max=250)"
      ]
     },
     "metadata": {},
     "output_type": "display_data"
    }
   ],
   "source": [
    "post_num = widgets.IntSlider(min = 0, max= 250, value = 5,\n",
    "                              step = 1, description = \"Post Number\")\n",
    "post_num"
   ]
  },
  {
   "cell_type": "code",
   "execution_count": 3,
   "metadata": {
    "tags": [
     "hide-input"
    ]
   },
   "outputs": [
    {
     "data": {
      "application/vnd.jupyter.widget-view+json": {
       "model_id": "1578278968254f98aa7ceeb1c1e455b8",
       "version_major": 2,
       "version_minor": 0
      },
      "text/plain": [
       "Dropdown(description='Select which subreddit.', options=('Pennystocks', 'WallstreetBets', 'SmallstreetBets', '…"
      ]
     },
     "metadata": {},
     "output_type": "display_data"
    }
   ],
   "source": [
    "subreddit = widgets.Dropdown(options = ['Pennystocks', 'WallstreetBets','SmallstreetBets', \n",
    "                                        'Stocks', 'EducatedInvesting'],\n",
    "                            description = \"Select which subreddit.\",\n",
    "                            style = {'description_width':'initial'})\n",
    "subreddit"
   ]
  },
  {
   "cell_type": "markdown",
   "metadata": {},
   "source": [
    "## Dataframe Generation Kernels\n",
    "Re-run the following kernel every time a value on the widgets is changed to refresh the data results."
   ]
  },
  {
   "cell_type": "code",
   "execution_count": 5,
   "metadata": {},
   "outputs": [
    {
     "data": {
      "text/html": [
       "<div>\n",
       "<style scoped>\n",
       "    .dataframe tbody tr th:only-of-type {\n",
       "        vertical-align: middle;\n",
       "    }\n",
       "\n",
       "    .dataframe tbody tr th {\n",
       "        vertical-align: top;\n",
       "    }\n",
       "\n",
       "    .dataframe thead th {\n",
       "        text-align: right;\n",
       "    }\n",
       "</style>\n",
       "<table border=\"1\" class=\"dataframe\">\n",
       "  <thead>\n",
       "    <tr style=\"text-align: right;\">\n",
       "      <th></th>\n",
       "      <th>title</th>\n",
       "      <th>score</th>\n",
       "      <th>comments</th>\n",
       "      <th>body</th>\n",
       "    </tr>\n",
       "  </thead>\n",
       "  <tbody>\n",
       "    <tr>\n",
       "      <th>0</th>\n",
       "      <td>Big Move with $TNXP</td>\n",
       "      <td>4</td>\n",
       "      <td>3</td>\n",
       "      <td>It’s short term bullish. Good sign with instit...</td>\n",
       "    </tr>\n",
       "    <tr>\n",
       "      <th>1</th>\n",
       "      <td>Price going down after good announcements?</td>\n",
       "      <td>0</td>\n",
       "      <td>6</td>\n",
       "      <td>Hey everyone been following nti for some time ...</td>\n",
       "    </tr>\n",
       "    <tr>\n",
       "      <th>2</th>\n",
       "      <td>Molecule $MLCL gets Purchase Order with n BC</td>\n",
       "      <td>2</td>\n",
       "      <td>7</td>\n",
       "      <td>Molecule to have cannabis infused beverages in...</td>\n",
       "    </tr>\n",
       "    <tr>\n",
       "      <th>3</th>\n",
       "      <td>$INPX the next 500% mover</td>\n",
       "      <td>9</td>\n",
       "      <td>5</td>\n",
       "      <td>\\n\\nSysorex completed a merger with TTM Digit...</td>\n",
       "    </tr>\n",
       "    <tr>\n",
       "      <th>4</th>\n",
       "      <td>Current &amp; Former Penny Stocks Wth Recent Insid...</td>\n",
       "      <td>13</td>\n",
       "      <td>1</td>\n",
       "      <td>Good article I just read about insiders report...</td>\n",
       "    </tr>\n",
       "  </tbody>\n",
       "</table>\n",
       "</div>"
      ],
      "text/plain": [
       "                                               title  score  comments  \\\n",
       "0                                Big Move with $TNXP      4         3   \n",
       "1         Price going down after good announcements?      0         6   \n",
       "2       Molecule $MLCL gets Purchase Order with n BC      2         7   \n",
       "3                          $INPX the next 500% mover      9         5   \n",
       "4  Current & Former Penny Stocks Wth Recent Insid...     13         1   \n",
       "\n",
       "                                                body  \n",
       "0  It’s short term bullish. Good sign with instit...  \n",
       "1  Hey everyone been following nti for some time ...  \n",
       "2  Molecule to have cannabis infused beverages in...  \n",
       "3   \\n\\nSysorex completed a merger with TTM Digit...  \n",
       "4  Good article I just read about insiders report...  "
      ]
     },
     "execution_count": 5,
     "metadata": {},
     "output_type": "execute_result"
    }
   ],
   "source": [
    "project = RedditScraper(subreddit.value, post_num.value)\n",
    "project_df = project.create_dataframe()\n",
    "project_df.head(5)"
   ]
  },
  {
   "cell_type": "markdown",
   "metadata": {},
   "source": [
    "## Watchlist Manipulation\n",
    "Input a stock symbol under tick_add and then run the kernel under it to add a stock to the watchlist. \n",
    "Input a stock symbol under tick_remove to remove it from the watchlist. \n",
    "\n",
    "There is already a pre-loaded list of symbols as a default to ensure there is enough data collected.  "
   ]
  },
  {
   "cell_type": "code",
   "execution_count": 6,
   "metadata": {},
   "outputs": [
    {
     "data": {
      "application/vnd.jupyter.widget-view+json": {
       "model_id": "eca53aafd8d54c61a783f074c690b0bc",
       "version_major": 2,
       "version_minor": 0
      },
      "text/plain": [
       "Text(value='')"
      ]
     },
     "metadata": {},
     "output_type": "display_data"
    }
   ],
   "source": [
    "tick_add = widgets.Text(\n",
    "    value = '',\n",
    "    disabled = False)\n",
    "tick_add"
   ]
  },
  {
   "cell_type": "code",
   "execution_count": 7,
   "metadata": {},
   "outputs": [
    {
     "data": {
      "text/plain": [
       "['VYNE',\n",
       " 'CTXR',\n",
       " 'RIVN',\n",
       " 'XSPA',\n",
       " 'AMC',\n",
       " 'HITI',\n",
       " 'GME',\n",
       " 'APPL',\n",
       " 'ADXS',\n",
       " 'TELL',\n",
       " 'TNXP',\n",
       " 'BABA']"
      ]
     },
     "execution_count": 7,
     "metadata": {},
     "output_type": "execute_result"
    }
   ],
   "source": [
    "project.add_ticker(tick_add.value)"
   ]
  },
  {
   "cell_type": "code",
   "execution_count": 8,
   "metadata": {},
   "outputs": [
    {
     "data": {
      "application/vnd.jupyter.widget-view+json": {
       "model_id": "c0ca68933a2e458fa4697f851585cd96",
       "version_major": 2,
       "version_minor": 0
      },
      "text/plain": [
       "Text(value='')"
      ]
     },
     "metadata": {},
     "output_type": "display_data"
    }
   ],
   "source": [
    "tick_remove = widgets.Text(value = '',\n",
    "              disabled = False)\n",
    "tick_remove"
   ]
  },
  {
   "cell_type": "code",
   "execution_count": 9,
   "metadata": {},
   "outputs": [
    {
     "data": {
      "text/plain": [
       "['VYNE',\n",
       " 'CTXR',\n",
       " 'RIVN',\n",
       " 'XSPA',\n",
       " 'AMC',\n",
       " 'HITI',\n",
       " 'APPL',\n",
       " 'ADXS',\n",
       " 'TELL',\n",
       " 'TNXP',\n",
       " 'BABA']"
      ]
     },
     "execution_count": 9,
     "metadata": {},
     "output_type": "execute_result"
    }
   ],
   "source": [
    "project.remove_ticker(tick_remove.value)\n",
    "project.list_tickers()"
   ]
  },
  {
   "cell_type": "code",
   "execution_count": 10,
   "metadata": {},
   "outputs": [
    {
     "data": {
      "text/html": [
       "<div>\n",
       "<style scoped>\n",
       "    .dataframe tbody tr th:only-of-type {\n",
       "        vertical-align: middle;\n",
       "    }\n",
       "\n",
       "    .dataframe tbody tr th {\n",
       "        vertical-align: top;\n",
       "    }\n",
       "\n",
       "    .dataframe thead th {\n",
       "        text-align: right;\n",
       "    }\n",
       "</style>\n",
       "<table border=\"1\" class=\"dataframe\">\n",
       "  <thead>\n",
       "    <tr style=\"text-align: right;\">\n",
       "      <th></th>\n",
       "      <th>title</th>\n",
       "      <th>score</th>\n",
       "      <th>comments</th>\n",
       "      <th>body</th>\n",
       "      <th>url</th>\n",
       "    </tr>\n",
       "  </thead>\n",
       "  <tbody>\n",
       "    <tr>\n",
       "      <th>0</th>\n",
       "      <td>Big Move with $TNXP</td>\n",
       "      <td>2</td>\n",
       "      <td>3</td>\n",
       "      <td>It’s short term bullish. Good sign with instit...</td>\n",
       "      <td>https://www.reddit.com/r/pennystocks/comments/...</td>\n",
       "    </tr>\n",
       "    <tr>\n",
       "      <th>1</th>\n",
       "      <td>Current &amp; Former Penny Stocks Wth Recent Insid...</td>\n",
       "      <td>12</td>\n",
       "      <td>1</td>\n",
       "      <td>Good article I just read about insiders report...</td>\n",
       "      <td>https://www.reddit.com/r/pennystocks/comments/...</td>\n",
       "    </tr>\n",
       "    <tr>\n",
       "      <th>2</th>\n",
       "      <td>Is $TELL ready to bounce after a 40% sale?</td>\n",
       "      <td>104</td>\n",
       "      <td>24</td>\n",
       "      <td>Tellurian has fallen back to an amazingly chea...</td>\n",
       "      <td>https://www.reddit.com/r/pennystocks/comments/...</td>\n",
       "    </tr>\n",
       "    <tr>\n",
       "      <th>3</th>\n",
       "      <td>$HITI back in penny land.</td>\n",
       "      <td>13</td>\n",
       "      <td>11</td>\n",
       "      <td>Just pointing it out.\\n\\nLast time I did every...</td>\n",
       "      <td>https://www.reddit.com/r/pennystocks/comments/...</td>\n",
       "    </tr>\n",
       "    <tr>\n",
       "      <th>4</th>\n",
       "      <td>$TNXP’s Live Virus Vaccine just became a whole...</td>\n",
       "      <td>7</td>\n",
       "      <td>27</td>\n",
       "      <td>Omicron Damn Near Can’t Get Worse!\\n\\nWhat we ...</td>\n",
       "      <td>https://www.reddit.com/r/pennystocks/comments/...</td>\n",
       "    </tr>\n",
       "    <tr>\n",
       "      <th>5</th>\n",
       "      <td>CDC expands program with $XSPA, plus new Benzi...</td>\n",
       "      <td>56</td>\n",
       "      <td>26</td>\n",
       "      <td></td>\n",
       "      <td>https://i.redd.it/s9zq8jf1n8381.jpg</td>\n",
       "    </tr>\n",
       "    <tr>\n",
       "      <th>6</th>\n",
       "      <td>$XSPA - CDC expands partnership to track omicr...</td>\n",
       "      <td>105</td>\n",
       "      <td>28</td>\n",
       "      <td></td>\n",
       "      <td>https://www.reddit.com/gallery/r61xrp</td>\n",
       "    </tr>\n",
       "    <tr>\n",
       "      <th>7</th>\n",
       "      <td>$XSPA ($1.75) in collaboration with Gingko to ...</td>\n",
       "      <td>9</td>\n",
       "      <td>8</td>\n",
       "      <td>\\n\\n## XpresSpa Group and Ginkgo Bioworks Col...</td>\n",
       "      <td>https://www.reddit.com/r/pennystocks/comments/...</td>\n",
       "    </tr>\n",
       "  </tbody>\n",
       "</table>\n",
       "</div>"
      ],
      "text/plain": [
       "                                               title  score  comments  \\\n",
       "0                                Big Move with $TNXP      2         3   \n",
       "1  Current & Former Penny Stocks Wth Recent Insid...     12         1   \n",
       "2         Is $TELL ready to bounce after a 40% sale?    104        24   \n",
       "3                          $HITI back in penny land.     13        11   \n",
       "4  $TNXP’s Live Virus Vaccine just became a whole...      7        27   \n",
       "5  CDC expands program with $XSPA, plus new Benzi...     56        26   \n",
       "6  $XSPA - CDC expands partnership to track omicr...    105        28   \n",
       "7  $XSPA ($1.75) in collaboration with Gingko to ...      9         8   \n",
       "\n",
       "                                                body  \\\n",
       "0  It’s short term bullish. Good sign with instit...   \n",
       "1  Good article I just read about insiders report...   \n",
       "2  Tellurian has fallen back to an amazingly chea...   \n",
       "3  Just pointing it out.\\n\\nLast time I did every...   \n",
       "4  Omicron Damn Near Can’t Get Worse!\\n\\nWhat we ...   \n",
       "5                                                      \n",
       "6                                                      \n",
       "7   \\n\\n## XpresSpa Group and Ginkgo Bioworks Col...   \n",
       "\n",
       "                                                 url  \n",
       "0  https://www.reddit.com/r/pennystocks/comments/...  \n",
       "1  https://www.reddit.com/r/pennystocks/comments/...  \n",
       "2  https://www.reddit.com/r/pennystocks/comments/...  \n",
       "3  https://www.reddit.com/r/pennystocks/comments/...  \n",
       "4  https://www.reddit.com/r/pennystocks/comments/...  \n",
       "5                https://i.redd.it/s9zq8jf1n8381.jpg  \n",
       "6              https://www.reddit.com/gallery/r61xrp  \n",
       "7  https://www.reddit.com/r/pennystocks/comments/...  "
      ]
     },
     "execution_count": 10,
     "metadata": {},
     "output_type": "execute_result"
    }
   ],
   "source": [
    "project_watchlist = project.filter_dataframe()\n",
    "project_watchlist"
   ]
  },
  {
   "cell_type": "markdown",
   "metadata": {},
   "source": [
    "### Generate bar graphs of the most mentioned stocks in the top investing subreddits.\n",
    "\n",
    "This is just to generate a list of potential stock symbols that are being discussed that can then be researched further and potentially added to the watch list. For this graph I filtered the text in post titles with the assumptions that stock symbols lie between 2 and 5 letter abbreviations and are all upper case. Unfortunately, this sometimes catches non-stock abbreviations and also excludes 1 letter tickers. However, this was the only screen I could think of to phase out other random uppercase letters. \n",
    "\n",
    "They also require a high post_num value on the slider (>150) to get meaningful results. "
   ]
  },
  {
   "cell_type": "code",
   "execution_count": 11,
   "metadata": {},
   "outputs": [
    {
     "data": {
      "image/png": "[encoded data removed]",
      "text/plain": [
       "<Figure size 1080x288 with 1 Axes>"
      ]
     },
     "metadata": {
      "needs_background": "light"
     },
     "output_type": "display_data"
    }
   ],
   "source": [
    "bar_graph(subreddit.value, post_num.value)"
   ]
  },
  {
   "cell_type": "code",
   "execution_count": 12,
   "metadata": {},
   "outputs": [
    {
     "name": "stdout",
     "output_type": "stream",
     "text": [
      "\u001b[1m============================= test session starts ==============================\u001b[0m\n",
      "platform linux -- Python 3.9.5, pytest-6.2.5, py-1.10.0, pluggy-1.0.0\n",
      "rootdir: /home/dkoh/Project_COGS18_FA21\n",
      "plugins: anyio-3.2.1\n",
      "collected 4 items                                                              \u001b[0m\u001b[1m\n",
      "\n",
      "test_functions.py \u001b[32m.\u001b[0m\u001b[32m.\u001b[0m\u001b[32m.\u001b[0m\u001b[32m.\u001b[0m\u001b[32m                                                   [100%]\u001b[0m\n",
      "\n",
      "\u001b[32m============================== \u001b[32m\u001b[1m4 passed\u001b[0m\u001b[32m in 2.73s\u001b[0m\u001b[32m ===============================\u001b[0m\n"
     ]
    }
   ],
   "source": [
    "!pytest test_functions.py"
   ]
  },
  {
   "cell_type": "markdown",
   "metadata": {},
   "source": [
    "#### Extra Credit (*optional*)\n",
    "\n",
    "\n",
    "1. I had next to no previous coding knowledge prior to COGS18. I have taken a data science course that briefly used Python just to clean data, but didn't go in-depth into anything outside of dataframe manipulation in pandas. I feel like I learned a lot, especially when doing research and working through this project.\n",
    "\n",
    "2. Data given in practice problems is so easy to work with because the hard work of cleaning and collecting it has usually already been done. As such, my biggest challenge was not only in learning how to use Reddit's API to scrape post data, but also in figuring out how to clean that data and remove as much noise as possible to make it easier to filter and process. Learning to use \"dirty\" data to extract the information I needed was a really challenging process, but ultimately I feel like I have improved a lot in terms of both understanding code and in figuring out solutions to obstacles the data might present. \n"
   ]
  }
 ],
 "metadata": {
  "celltoolbar": "Tags",
  "kernelspec": {
   "display_name": "Python 3 (ipykernel)",
   "language": "python",
   "name": "python3"
  },
  "language_info": {
   "codemirror_mode": {
    "name": "ipython",
    "version": 3
   },
   "file_extension": ".py",
   "mimetype": "text/x-python",
   "name": "python",
   "nbconvert_exporter": "python",
   "pygments_lexer": "ipython3",
   "version": "3.9.5"
  }
 },
 "nbformat": 4,
 "nbformat_minor": 2
}
